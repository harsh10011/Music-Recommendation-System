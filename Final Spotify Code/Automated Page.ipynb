{
 "cells": [
  {
   "cell_type": "code",
   "execution_count": 2,
   "metadata": {},
   "outputs": [],
   "source": [
    "from selenium import webdriver\n",
    "from selenium.webdriver.chrome.service import Service\n",
    "from selenium.webdriver.chrome.options import Options\n",
    "from webdriver_manager.chrome import ChromeDriverManager\n",
    "from selenium.webdriver.common.by import By\n",
    "import time\n",
    "import os\n",
    "\n",
    "options = Options()\n",
    "options.add_experimental_option('detach', True)\n",
    "options.add_argument(r'--user-data-dir=C:/Users/Sarthak/AppData/Local/Google/Chrome/User Data/Default')\n",
    "# options.add_argument(r'--profile-directory=Profile 2')\n",
    "drv = webdriver.Chrome(service=Service(ChromeDriverManager().install()),\n",
    "  options=options)\n",
    "\n",
    "\n",
    "drv.get('https://app.tunemymusic.com/transfer')\n",
    "drv.maximize_window()\n",
    "time.sleep(2)\n",
    "\n",
    "drv.find_element(By.XPATH, \"//button[@class='MusicServiceBlock_Block__NWCBD  MusicServiceBlock_abnormal__5yBpJ'][.='Upload file']\").click()\n",
    "time.sleep(2)\n",
    "\n",
    "drv.find_element(By.XPATH, \"//div[@class='DropZone_container__y7dLa']/input\").send_keys(os.getcwd()+'/Songs.txt')\n",
    "time.sleep(3)\n",
    "\n",
    "drv.find_element(By.XPATH,\"//*[text()='Choose Destination']\").click()\n",
    "time.sleep(2)\n",
    "\n",
    "drv.find_element(By.XPATH, \"//button[@name='Spotify']\").click()\n",
    "time.sleep(5)\n",
    "\n",
    "drv.find_element(By.XPATH,\"//*[text()='Start Transfer']\").click()\n",
    "time.sleep(2)\n",
    "\n",
    "drv.find_element(By.XPATH,\"//*[text()='Open']\").click()\n",
    "time.sleep(5)\n",
    "\n",
    "#drv.find_element(By.XPATH, \"//button[@class='Button-sc-qlcn5g-0 futnNt']\").click()\n",
    "#time.sleep(10)"
   ]
  },
  {
   "cell_type": "code",
   "execution_count": null,
   "metadata": {},
   "outputs": [],
   "source": []
  }
 ],
 "metadata": {
  "kernelspec": {
   "display_name": "Python 3",
   "language": "python",
   "name": "python3"
  },
  "language_info": {
   "codemirror_mode": {
    "name": "ipython",
    "version": 3
   },
   "file_extension": ".py",
   "mimetype": "text/x-python",
   "name": "python",
   "nbconvert_exporter": "python",
   "pygments_lexer": "ipython3",
   "version": "3.7.3"
  }
 },
 "nbformat": 4,
 "nbformat_minor": 2
}
